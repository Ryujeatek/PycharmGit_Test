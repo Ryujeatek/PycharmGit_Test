{
 "cells": [
  {
   "cell_type": "code",
   "execution_count": 5,
   "metadata": {
    "collapsed": true,
    "ExecuteTime": {
     "end_time": "2023-07-10T14:55:00.212775Z",
     "start_time": "2023-07-10T14:55:00.206333500Z"
    }
   },
   "outputs": [],
   "source": [
    "import librosa\n",
    "import glob\n"
   ]
  },
  {
   "cell_type": "code",
   "execution_count": 19,
   "outputs": [
    {
     "data": {
      "text/plain": "'01.wav'"
     },
     "execution_count": 19,
     "metadata": {},
     "output_type": "execute_result"
    }
   ],
   "source": [
    "wavfilelist = glob.glob(r\"C:\\Users\\ryuje\\Desktop\\wavs\\*.wav\")\n",
    "\n",
    "wavfilelist[0].split(\"\\\\\")[5]"
   ],
   "metadata": {
    "collapsed": false,
    "ExecuteTime": {
     "end_time": "2023-07-10T15:05:26.284428800Z",
     "start_time": "2023-07-10T15:05:26.258494600Z"
    }
   }
  },
  {
   "cell_type": "code",
   "execution_count": 22,
   "outputs": [],
   "source": [
    "import soundfile\n",
    "\n",
    "writepath = \"C:/Users/ryuje/Desktop/wavs_result/\"\n",
    "\n",
    "for item in wavfilelist :\n",
    "    data, samplerate = soundfile.read(item)\n",
    "    filename = item.split(\"\\\\\")[5]\n",
    "    soundfile.write(writepath+filename, data, samplerate, subtype='PCM_16')"
   ],
   "metadata": {
    "collapsed": false,
    "ExecuteTime": {
     "end_time": "2023-07-10T15:14:49.242393100Z",
     "start_time": "2023-07-10T15:13:49.130568900Z"
    }
   }
  },
  {
   "cell_type": "code",
   "execution_count": null,
   "outputs": [],
   "source": [],
   "metadata": {
    "collapsed": false
   }
  }
 ],
 "metadata": {
  "kernelspec": {
   "display_name": "Python 3",
   "language": "python",
   "name": "python3"
  },
  "language_info": {
   "codemirror_mode": {
    "name": "ipython",
    "version": 2
   },
   "file_extension": ".py",
   "mimetype": "text/x-python",
   "name": "python",
   "nbconvert_exporter": "python",
   "pygments_lexer": "ipython2",
   "version": "2.7.6"
  }
 },
 "nbformat": 4,
 "nbformat_minor": 0
}
