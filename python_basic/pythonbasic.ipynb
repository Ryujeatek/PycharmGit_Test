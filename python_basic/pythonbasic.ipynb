{
 "cells": [
  {
   "cell_type": "code",
   "execution_count": 14,
   "metadata": {
    "collapsed": true,
    "ExecuteTime": {
     "end_time": "2023-06-06T13:40:59.327371300Z",
     "start_time": "2023-06-06T13:40:59.311378300Z"
    }
   },
   "outputs": [],
   "source": [
    "data1 = [1,2,3,4]\n",
    "data2 = ['이순신','세종대왕','홍길동','장화홍련']"
   ]
  },
  {
   "cell_type": "code",
   "execution_count": 15,
   "outputs": [
    {
     "name": "stdout",
     "output_type": "stream",
     "text": [
      "<zip object at 0x0000027CAD6FA740>\n"
     ]
    }
   ],
   "source": [
    "dataiterable = zip(data1, data2)\n",
    "print(dataiterable)"
   ],
   "metadata": {
    "collapsed": false,
    "ExecuteTime": {
     "end_time": "2023-06-06T13:40:59.591640200Z",
     "start_time": "2023-06-06T13:40:59.559374200Z"
    }
   }
  },
  {
   "cell_type": "code",
   "execution_count": 16,
   "outputs": [
    {
     "name": "stdout",
     "output_type": "stream",
     "text": [
      "<class 'zip'>\n"
     ]
    }
   ],
   "source": [
    "print(type(dataiterable))"
   ],
   "metadata": {
    "collapsed": false,
    "ExecuteTime": {
     "end_time": "2023-06-06T13:40:59.751554500Z",
     "start_time": "2023-06-06T13:40:59.705425600Z"
    }
   }
  },
  {
   "cell_type": "code",
   "execution_count": 17,
   "outputs": [
    {
     "data": {
      "text/plain": "((1, '이순신'), (2, '세종대왕'), (3, '홍길동'), (4, '장화홍련'))"
     },
     "execution_count": 17,
     "metadata": {},
     "output_type": "execute_result"
    }
   ],
   "source": [
    "data_tuple = tuple(dataiterable)\n",
    "data_tuple"
   ],
   "metadata": {
    "collapsed": false,
    "ExecuteTime": {
     "end_time": "2023-06-06T13:40:59.927710500Z",
     "start_time": "2023-06-06T13:40:59.898209500Z"
    }
   }
  },
  {
   "cell_type": "code",
   "execution_count": 20,
   "outputs": [
    {
     "data": {
      "text/plain": "[(1, '이순신'), (2, '세종대왕'), (3, '홍길동'), (4, '장화홍련')]"
     },
     "execution_count": 20,
     "metadata": {},
     "output_type": "execute_result"
    }
   ],
   "source": [
    "data_list = list(data_tuple)\n",
    "data_list"
   ],
   "metadata": {
    "collapsed": false,
    "ExecuteTime": {
     "end_time": "2023-06-06T13:43:34.819647400Z",
     "start_time": "2023-06-06T13:43:34.758446800Z"
    }
   }
  },
  {
   "cell_type": "code",
   "execution_count": 21,
   "outputs": [
    {
     "ename": "SyntaxError",
     "evalue": "invalid syntax (3907915819.py, line 3)",
     "output_type": "error",
     "traceback": [
      "\u001B[1;36m  Cell \u001B[1;32mIn[21], line 3\u001B[1;36m\u001B[0m\n\u001B[1;33m    with pickle()\u001B[0m\n\u001B[1;37m                 ^\u001B[0m\n\u001B[1;31mSyntaxError\u001B[0m\u001B[1;31m:\u001B[0m invalid syntax\n"
     ]
    }
   ],
   "source": [
    "import pickle\n",
    "\n",
    "with pickle(\"output.pkl\", \"w\") as outpickle :\n"
   ],
   "metadata": {
    "collapsed": false,
    "ExecuteTime": {
     "end_time": "2023-06-06T13:44:05.819369700Z",
     "start_time": "2023-06-06T13:44:05.812367400Z"
    }
   }
  },
  {
   "cell_type": "code",
   "execution_count": 37,
   "outputs": [
    {
     "name": "stdout",
     "output_type": "stream",
     "text": [
      "이름    홍길동\n",
      "나이     20\n",
      "Name: 0, dtype: object\n",
      "0     홍길동\n",
      "1    세종대왕\n",
      "2     이순신\n",
      "Name: 이름, dtype: object\n"
     ]
    }
   ],
   "source": [
    "import pandas\n",
    "\n",
    "#여기서 반드시 [] 브라켓 처리를 해 주어야 합니다.\n",
    "#마지막은 {} 브레이스로 마무리\n",
    "data ={'이름':['홍길동', '세종대왕', '이순신'],\n",
    "'나이':['20', '30', '40']}\n",
    "myDataframe = pandas.DataFrame(data)\n",
    "\n",
    "print(myDataframe.iloc[0]) #첫 번째 행에 접근하는 방법\n",
    "print(myDataframe.iloc[:,0]) # 두번째 열에 접근하는 방법"
   ],
   "metadata": {
    "collapsed": false,
    "ExecuteTime": {
     "end_time": "2023-06-06T14:05:32.357913300Z",
     "start_time": "2023-06-06T14:05:32.341954400Z"
    }
   }
  },
  {
   "cell_type": "code",
   "execution_count": 39,
   "outputs": [
    {
     "name": "stdout",
     "output_type": "stream",
     "text": [
      "이름    홍길동\n",
      "나이     20\n",
      "Name: 0, dtype: object\n",
      "0     홍길동\n",
      "1    세종대왕\n",
      "2     이순신\n",
      "Name: 이름, dtype: object\n"
     ]
    }
   ],
   "source": [
    "import pandas\n",
    "\n",
    "data ={'이름':['홍길동', '세종대왕', '이순신'],\n",
    "'나이':['20', '30', '40']}\n",
    "myDataframe = pandas.DataFrame(data)\n",
    "\n",
    "print(myDataframe.loc[0])\n",
    "print(myDataframe.loc[:,'이름'])"
   ],
   "metadata": {
    "collapsed": false,
    "ExecuteTime": {
     "end_time": "2023-06-06T14:06:17.529128400Z",
     "start_time": "2023-06-06T14:06:17.498331200Z"
    }
   }
  },
  {
   "cell_type": "code",
   "execution_count": 40,
   "outputs": [
    {
     "data": {
      "text/plain": "[['홍길동', '20'], ['세종대왕', '30'], ['이순신', '40']]"
     },
     "execution_count": 40,
     "metadata": {},
     "output_type": "execute_result"
    }
   ],
   "source": [
    "import pandas\n",
    "\n",
    "data ={'이름':['홍길동', '세종대왕', '이순신'],\n",
    "'나이':['20', '30', '40']}\n",
    "myDataframe = pandas.DataFrame(data)\n",
    "\n",
    "#리스트로 만드는 방법\n",
    "myDataframe.values.tolist()\n",
    "\n",
    "#튜플로 만드는 방법\n",
    "myDataframe.to_records()"
   ],
   "metadata": {
    "collapsed": false,
    "ExecuteTime": {
     "end_time": "2023-06-06T14:18:46.045553Z",
     "start_time": "2023-06-06T14:18:46.030350Z"
    }
   }
  },
  {
   "cell_type": "code",
   "execution_count": 41,
   "outputs": [
    {
     "data": {
      "text/plain": "rec.array([(0, '홍길동', '20'), (1, '세종대왕', '30'), (2, '이순신', '40')],\n          dtype=[('index', '<i8'), ('이름', 'O'), ('나이', 'O')])"
     },
     "execution_count": 41,
     "metadata": {},
     "output_type": "execute_result"
    }
   ],
   "source": [],
   "metadata": {
    "collapsed": false,
    "ExecuteTime": {
     "end_time": "2023-06-06T14:19:07.238183800Z",
     "start_time": "2023-06-06T14:19:07.185696300Z"
    }
   }
  },
  {
   "cell_type": "code",
   "execution_count": null,
   "outputs": [],
   "source": [],
   "metadata": {
    "collapsed": false
   }
  }
 ],
 "metadata": {
  "kernelspec": {
   "display_name": "Python 3",
   "language": "python",
   "name": "python3"
  },
  "language_info": {
   "codemirror_mode": {
    "name": "ipython",
    "version": 2
   },
   "file_extension": ".py",
   "mimetype": "text/x-python",
   "name": "python",
   "nbconvert_exporter": "python",
   "pygments_lexer": "ipython2",
   "version": "2.7.6"
  }
 },
 "nbformat": 4,
 "nbformat_minor": 0
}
