{
 "cells": [
  {
   "cell_type": "code",
   "execution_count": 1,
   "metadata": {
    "collapsed": true,
    "ExecuteTime": {
     "end_time": "2023-05-30T09:56:20.404080900Z",
     "start_time": "2023-05-30T09:56:17.864954400Z"
    }
   },
   "outputs": [],
   "source": [
    "import pandas as pd\n",
    "import sqlite3\n"
   ]
  },
  {
   "cell_type": "code",
   "execution_count": 2,
   "outputs": [
    {
     "ename": "SyntaxError",
     "evalue": "invalid syntax (971408227.py, line 2)",
     "output_type": "error",
     "traceback": [
      "\u001B[1;36m  Cell \u001B[1;32mIn[2], line 2\u001B[1;36m\u001B[0m\n\u001B[1;33m    with sqlite3.connect()\u001B[0m\n\u001B[1;37m                          ^\u001B[0m\n\u001B[1;31mSyntaxError\u001B[0m\u001B[1;31m:\u001B[0m invalid syntax\n"
     ]
    }
   ],
   "source": [
    "#데이터 가져오기\n",
    "with sqlite3.connect(\"db.sqlite\") as conn :\n",
    "    QueryString = \"SELETC * FROM newsMain\"\n",
    "    dfMain = pd.read_sql(QueryString, conn)\n",
    "\n",
    "    #쿼리를 만드는 방법 실행\n",
    "    #!커서를 만들어야만 함\n",
    "    #DBcursor = conn.cursor()\n",
    "    #DBcursor.execute(QueryString)\n",
    "    #rows = DBcursor.fetchall()\n",
    "    #for row in rows:\n",
    "    #   print(row)\n",
    "    # http://pythonstudy.xyz/python/article/204-SQLite-%EC%82%AC%EC%9A%A9 이거 내용이 좋다!\n",
    "    #DML은 뭐지?\n",
    "    #SQL에서 데이터 조작하는 INSERT, UPDATE, DELETE문을 DML이라고 한단다 ㅋㅋㅋ\n",
    "\n",
    "#2화 파일 오픈에 관하여#\n",
    "#with open(\"pa\") w, r, a\n",
    "#파라미터는 매일 까먹는 이규가 뭐지?\n",
    "#f.read, write이에 대한 기본사항 정리하기\n",
    "#f.read write?\n",
    "#에버노트에 먼저 정리하기\n",
    "#Docker도 정리하자!\n",
    "#python\n",
    "#내가 전문가가 되고 싶은거 꼭 골하서 해라\n",
    "#html\n",
    "#js\n",
    "#spring은 꼭 해자! 이거 정말짜증난다!\n",
    "#postgresql, system engineer\n",
    "#\n",
    "\n",
    "# Parameterized Query\n",
    "# 열라 편하게 되어 있다! ?로 표기하면 된다!\n",
    "# 이거 블로그에 올리자!!!!\n",
    "# Nmaed Place holder도 존재함\n",
    "#\n",
    "\n",
    "\n",
    "#dataframe\n",
    "#lambda 식\n",
    "#반복해서 외울 수 있도록 할 것\n",
    "#apply\n",
    "#1.Dataframe에서 원하는 항목만 추출하기\n",
    "#loc, iloc와의 차이\n",
    "#list\n",
    "#tuple\n",
    "#dictionary\n",
    "#python json\n",
    "#glob.glob\n",
    "#/*, /**. recursive=ture\n",
    "#dictionary 만드는 방법\n",
    "#test_dictionary = dict()\n",
    "#dictionary, from key?\n"
   ],
   "metadata": {
    "collapsed": false,
    "ExecuteTime": {
     "end_time": "2023-05-30T09:56:33.714286900Z",
     "start_time": "2023-05-30T09:56:33.598761400Z"
    }
   }
  },
  {
   "cell_type": "code",
   "execution_count": null,
   "outputs": [],
   "source": [],
   "metadata": {
    "collapsed": false
   }
  }
 ],
 "metadata": {
  "kernelspec": {
   "display_name": "Python 3",
   "language": "python",
   "name": "python3"
  },
  "language_info": {
   "codemirror_mode": {
    "name": "ipython",
    "version": 2
   },
   "file_extension": ".py",
   "mimetype": "text/x-python",
   "name": "python",
   "nbconvert_exporter": "python",
   "pygments_lexer": "ipython2",
   "version": "2.7.6"
  }
 },
 "nbformat": 4,
 "nbformat_minor": 0
}
